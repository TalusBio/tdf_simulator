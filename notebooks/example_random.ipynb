{
 "cells": [
  {
   "cell_type": "code",
   "execution_count": null,
   "metadata": {},
   "outputs": [],
   "source": [
    "! head ../tests/data/*"
   ]
  },
  {
   "cell_type": "code",
   "execution_count": null,
   "metadata": {},
   "outputs": [],
   "source": [
    "! python -m tdf_simulator.random --output_file mysupercoolfile_random.d --config_file ../tests/data/settings.toml --num_transitions 200000    "
   ]
  },
  {
   "cell_type": "code",
   "execution_count": null,
   "metadata": {},
   "outputs": [],
   "source": [
    "! du -sh mysupercoolfile_random.d/*"
   ]
  },
  {
   "cell_type": "code",
   "execution_count": null,
   "metadata": {},
   "outputs": [],
   "source": [
    "import numpy as np\n",
    "import timsrust_pyo3\n",
    "from matplotlib import pyplot as plt\n",
    "\n",
    "reader = timsrust_pyo3.TimsReader(\"mysupercoolfile_random.d\")\n",
    "all_frames = timsrust_pyo3.read_all_frames(\"mysupercoolfile_random.d\")\n",
    "tic = np.array([sum(x.intensities) for x in all_frames])\n",
    "bpc = np.array([max(x.intensities) if x.intensities else 0 for x in all_frames])\n",
    "\n",
    "apex = np.argmax(bpc)\n",
    "time = np.array([x.rt for x in all_frames])\n",
    "types = np.array([x.frame_type for x in all_frames])\n",
    "left = np.searchsorted(time, all_frames[apex].rt - 10)\n",
    "right = np.searchsorted(time, all_frames[apex].rt + 10)\n",
    "\n",
    "times = time[left:right]\n",
    "types = types[left:right]\n",
    "\n",
    "ms1s = bpc[left:right][types == 0]\n",
    "ms1_times = time[left:right][types == 0]\n",
    "ms2s = bpc[left:right][types == 2]\n",
    "ms2_times = time[left:right][types == 2]\n",
    "\n",
    "\n",
    "plt.plot(ms1_times, ms1s, label=\"MS1\")\n",
    "plt.plot(ms2_times, ms2s, label=\"MS2\")\n",
    "plt.legend()\n",
    "plt.xlabel(\"Time (s)\")\n",
    "plt.ylabel(\"Base peak intensity\")\n",
    "plt.show()"
   ]
  },
  {
   "cell_type": "code",
   "execution_count": null,
   "metadata": {},
   "outputs": [],
   "source": [
    "frame_at_apex = all_frames[apex]\n",
    "frame_at_apex"
   ]
  },
  {
   "cell_type": "code",
   "execution_count": null,
   "metadata": {},
   "outputs": [],
   "source": [
    "def make_2d_array(x, y, z):\n",
    "    out = np.zeros((x.max() + 1, y.max() + 1))\n",
    "    out[x, y] = z\n",
    "    return out\n",
    "\n",
    "\n",
    "xs = np.array(frame_at_apex.tof_indices)\n",
    "# ys = np.array(frame_at_apex.scan)\n",
    "\n",
    "imss = []\n",
    "tmp = frame_at_apex.scan_offsets\n",
    "for i in range(len(tmp) - 1):\n",
    "    imss.extend([i] * (tmp[i + 1] - tmp[i]))\n",
    "\n",
    "imss = np.array(imss)\n",
    "\n",
    "# plt.imshow(make_2d_array(xs, imss, frame_at_apex.intensities), aspect=\"auto\")\n",
    "plt.hexbin(\n",
    "    reader.resolve_mzs(xs),\n",
    "    imss,\n",
    "    gridsize=(1000, 100),\n",
    "    C=frame_at_apex.intensities,\n",
    "    cmap=\"viridis\",\n",
    ")\n",
    "plt.xlabel(\"m/z\")\n",
    "plt.ylabel(\"scan_index\")"
   ]
  },
  {
   "cell_type": "code",
   "execution_count": null,
   "metadata": {},
   "outputs": [],
   "source": [
    "max_x = xs.max()\n",
    "mask = (xs > (max_x - 2000)) & (xs < (max_x + 2000))\n",
    "ints = np.array(frame_at_apex.intensities)\n",
    "\n",
    "plt.hexbin(reader.resolve_mzs(xs[mask]), imss[mask], C=ints[mask], cmap=\"viridis\")\n",
    "plt.xlabel(\"m/z\")\n",
    "plt.ylabel(\"scan index\")\n",
    "# np.unique(xs[mask], return_inverse=True)"
   ]
  },
  {
   "cell_type": "code",
   "execution_count": null,
   "metadata": {},
   "outputs": [],
   "source": []
  }
 ],
 "metadata": {
  "kernelspec": {
   "display_name": "Python 3 (ipykernel)",
   "language": "python",
   "name": "python3"
  },
  "language_info": {
   "codemirror_mode": {
    "name": "ipython",
    "version": 3
   },
   "file_extension": ".py",
   "mimetype": "text/x-python",
   "name": "python",
   "nbconvert_exporter": "python",
   "pygments_lexer": "ipython3",
   "version": "3.12.5"
  }
 },
 "nbformat": 4,
 "nbformat_minor": 4
}
